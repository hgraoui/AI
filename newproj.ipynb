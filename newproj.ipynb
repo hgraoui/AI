{
 "cells": [
  {
   "cell_type": "markdown",
   "id": "e72e548d",
   "metadata": {},
   "source": [
    "# Choose a Data Set\n",
    "\n",
    "You can choose to analyze any data that you would like! Remember, you need 1000 rows of non-null data in order to get 5 points for the \"Data\" criteria of my [rubric](https://docs.google.com/document/d/1s3wllcF3LLnytxwD8mZ-BCypXKnfaahnizWGNojT-B4/edit?usp=sharing). Consider looking at [Kaggle](https://www.kaggle.com/datasets) or [free APIs](https://free-apis.github.io/#/browse) for datasets of this size. Alternatively, you can scrape the web to make your own dataset! :D\n",
    "\n",
    "Once you have chosen your dataset, please read your data into a dataframe and call `.info()` below. If you don't call `info` I will give you 0 points for the first criteria described on the [rubric](https://docs.google.com/document/d/1s3wllcF3LLnytxwD8mZ-BCypXKnfaahnizWGNojT-B4/edit?usp=sharing)."
   ]
  },
  {
   "cell_type": "code",
   "execution_count": 4,
   "id": "d71eb2fa",
   "metadata": {},
   "outputs": [],
   "source": [
    "# Read data into a dataframe and call info()\n",
    "    # Example call:\n",
    "    # df = pd.DataFrame({\"A\":[1, 2, 3], \"B\":[4, 5, 6]})\n",
    "    # df.info()"
   ]
  },
  {
   "cell_type": "markdown",
   "id": "109e5f57",
   "metadata": {},
   "source": [
    "\"What is the probability of the word 'food'and salt appearing in articles compared to the probability of the work 'food' or 'salt' on Wikipedia?\"\n"
   ]
  },
  {
   "cell_type": "markdown",
   "id": "94af0ecd",
   "metadata": {},
   "source": [
    "### Write your question here."
   ]
  },
  {
   "cell_type": "markdown",
   "id": "9070cec5",
   "metadata": {},
   "source": [
    "# My Analysis"
   ]
  },
  {
   "cell_type": "code",
   "execution_count": 28,
   "id": "1fbfebe3",
   "metadata": {},
   "outputs": [
    {
     "name": "stdout",
     "output_type": "stream",
     "text": [
      "Defaulting to user installation because normal site-packages is not writeable\n",
      "Requirement already satisfied: wikipedia-api in c:\\users\\hgraoui\\appdata\\roaming\\python\\python39\\site-packages (0.7.1)\n",
      "Requirement already satisfied: requests in c:\\programdata\\anaconda3\\lib\\site-packages (from wikipedia-api) (2.28.1)\n",
      "Requirement already satisfied: certifi>=2017.4.17 in c:\\programdata\\anaconda3\\lib\\site-packages (from requests->wikipedia-api) (2022.9.14)\n",
      "Requirement already satisfied: urllib3<1.27,>=1.21.1 in c:\\programdata\\anaconda3\\lib\\site-packages (from requests->wikipedia-api) (1.26.11)\n",
      "Requirement already satisfied: charset-normalizer<3,>=2 in c:\\programdata\\anaconda3\\lib\\site-packages (from requests->wikipedia-api) (2.0.4)\n",
      "Requirement already satisfied: idna<4,>=2.5 in c:\\programdata\\anaconda3\\lib\\site-packages (from requests->wikipedia-api) (3.3)\n",
      "Note: you may need to restart the kernel to use updated packages.\n"
     ]
    }
   ],
   "source": [
    "pip install wikipedia-api\n"
   ]
  },
  {
   "cell_type": "code",
   "execution_count": 50,
   "id": "4b464319",
   "metadata": {},
   "outputs": [
    {
     "name": "stdout",
     "output_type": "stream",
     "text": [
      "Probability of both 'food' and 'salt' appearing together: 0.000000\n",
      "Probability of either 'food' or 'salt' appearing: 0.008465\n"
     ]
    }
   ],
   "source": [
    "import requests\n",
    "from bs4 import BeautifulSoup\n",
    "\n",
    "# Function to calculate probabilities for \"food\" and \"salt\" words\n",
    "def calculate_word_probabilities(url, word1, word2):\n",
    "    # Send a GET request to the Wikipedia article\n",
    "    response = requests.get(url)\n",
    "    \n",
    "    # Check if the request was successful\n",
    "    if response.status_code == 200:\n",
    "        # Parse the HTML content of the page\n",
    "        soup = BeautifulSoup(response.text, 'html.parser')\n",
    "        \n",
    "        # Get all text content from the article\n",
    "        article_text = soup.get_text().lower()\n",
    "        \n",
    "        # Total number of words in the article\n",
    "        total_words = len(article_text.split())\n",
    "        \n",
    "        # Count occurrences of word1 (food) and word2 (salt)\n",
    "        word1_count = article_text.count(word1)\n",
    "        word2_count = article_text.count(word2)\n",
    "        \n",
    "        # Count occurrences where both words appear\n",
    "        both_count = sum(1 for i in range(len(article_text) - len(word1) - len(word2) + 1)\n",
    "                         if article_text[i:i+len(word1)] == word1 and article_text[i+len(word1):i+len(word1)+len(word2)] == word2)\n",
    "\n",
    "        # Probability of both words appearing together\n",
    "        prob_both = both_count / total_words if total_words > 0 else 0\n",
    "\n",
    "        # Probability of either word1 or word2 appearing\n",
    "        prob_either = (word1_count + word2_count - both_count) / total_words if total_words > 0 else 0\n",
    "\n",
    "        return prob_both, prob_either\n",
    "    else:\n",
    "        print(f\"Error: Unable to fetch the article (Status code: {response.status_code})\")\n",
    "        return 0, 0\n",
    "\n",
    "# URL of the Wikipedia article for \"Sushi\"\n",
    "url = \"https://en.wikipedia.org/wiki/Sushi\"\n",
    "\n",
    "# Words to check\n",
    "word1 = \"food\"\n",
    "word2 = \"salt\"\n",
    "\n",
    "# Calculate probabilities for both words and either word\n",
    "prob_both, prob_either = calculate_word_probabilities(url, word1, word2)\n",
    "\n",
    "# Print the results\n",
    "print(f\"Probability of both '{word1}' and '{word2}' appearing together: {prob_both:.6f}\")\n",
    "print(f\"Probability of either '{word1}' or '{word2}' appearing: {prob_either:.6f}\")\n"
   ]
  },
  {
   "cell_type": "code",
   "execution_count": 49,
   "id": "0c71d819",
   "metadata": {},
   "outputs": [
    {
     "name": "stdout",
     "output_type": "stream",
     "text": [
      "The word 'food' appears 88 times in the article https://en.wikipedia.org/wiki/Sushi\n"
     ]
    }
   ],
   "source": [
    "import requests\n",
    "from bs4 import BeautifulSoup\n",
    "\n",
    "# Function to count occurrences of the word \"food\" in the article\n",
    "def count_food_in_wikipedia(url):\n",
    "    # Send a GET request to the Wikipedia article\n",
    "    response = requests.get(url)\n",
    "    \n",
    "    # Check if the request was successful\n",
    "    if response.status_code == 200:\n",
    "        # Parse the HTML content of the page\n",
    "        soup = BeautifulSoup(response.text, 'html.parser')\n",
    "        \n",
    "        # Get all text content from the article\n",
    "        article_text = soup.get_text().lower()\n",
    "        \n",
    "        # Count how many times the word \"food\" appears\n",
    "        food_count = article_text.count('food')\n",
    "        \n",
    "        return food_count\n",
    "    else:\n",
    "        print(f\"Error: Unable to fetch the article (Status code: {response.status_code})\")\n",
    "        return 0\n",
    "\n",
    "# URL of the Wikipedia article for \"Sushi\"\n",
    "url = \"https://en.wikipedia.org/wiki/Sushi\"\n",
    "\n",
    "# Count the occurrences of the word \"food\"\n",
    "food_count = count_food_in_wikipedia(url)\n",
    "\n",
    "# Print the result\n",
    "print(f\"The word 'food' appears {food_count} times in the article {url}\")\n"
   ]
  },
  {
   "cell_type": "code",
   "execution_count": 51,
   "id": "4d836a6b",
   "metadata": {},
   "outputs": [
    {
     "name": "stdout",
     "output_type": "stream",
     "text": [
      "--- Data for the word 'food' ---\n",
      "Total number of words in the article: 11932\n",
      "Occurrences of 'food': 88\n",
      "Probability of 'food' appearing: 0.007375\n",
      "\n",
      "--- Data for the word 'salt' ---\n",
      "Total number of words in the article: 11932\n",
      "Occurrences of 'salt': 13\n",
      "Probability of 'salt' appearing: 0.001090\n"
     ]
    }
   ],
   "source": [
    "import requests\n",
    "from bs4 import BeautifulSoup\n",
    "\n",
    "# Function to calculate probabilities for a single word in the article\n",
    "def calculate_word_probability(url, word):\n",
    "    # Send a GET request to the Wikipedia article\n",
    "    response = requests.get(url)\n",
    "    \n",
    "    # Check if the request was successful\n",
    "    if response.status_code == 200:\n",
    "        # Parse the HTML content of the page\n",
    "        soup = BeautifulSoup(response.text, 'html.parser')\n",
    "        \n",
    "        # Get all text content from the article\n",
    "        article_text = soup.get_text().lower()\n",
    "        \n",
    "        # Total number of words in the article\n",
    "        total_words = len(article_text.split())\n",
    "        \n",
    "        # Count occurrences of the word in the article\n",
    "        word_count = article_text.count(word)\n",
    "        \n",
    "        # Probability of the word appearing\n",
    "        prob_word = word_count / total_words if total_words > 0 else 0\n",
    "\n",
    "        return word_count, prob_word, total_words\n",
    "    else:\n",
    "        print(f\"Error: Unable to fetch the article (Status code: {response.status_code})\")\n",
    "        return 0, 0, 0\n",
    "\n",
    "# URL of the Wikipedia article for \"Sushi\"\n",
    "url = \"https://en.wikipedia.org/wiki/Sushi\"\n",
    "\n",
    "# Words to check\n",
    "word_food = \"food\"\n",
    "word_salt = \"salt\"\n",
    "\n",
    "# Calculate probabilities and counts for \"food\" and \"salt\"\n",
    "food_count, prob_food, total_words_food = calculate_word_probability(url, word_food)\n",
    "salt_count, prob_salt, total_words_salt = calculate_word_probability(url, word_salt)\n",
    "\n",
    "# Print the results for food\n",
    "print(f\"--- Data for the word 'food' ---\")\n",
    "print(f\"Total number of words in the article: {total_words_food}\")\n",
    "print(f\"Occurrences of 'food': {food_count}\")\n",
    "print(f\"Probability of 'food' appearing: {prob_food:.6f}\")\n",
    "\n",
    "# Print the results for salt\n",
    "print(f\"\\n--- Data for the word 'salt' ---\")\n",
    "print(f\"Total number of words in the article: {total_words_salt}\")\n",
    "print(f\"Occurrences of 'salt': {salt_count}\")\n",
    "print(f\"Probability of 'salt' appearing: {prob_salt:.6f}\")\n"
   ]
  },
  {
   "cell_type": "code",
   "execution_count": 56,
   "id": "ba902c77",
   "metadata": {},
   "outputs": [
    {
     "name": "stdout",
     "output_type": "stream",
     "text": [
      "--- Averaged Data for the word 'food' ---\n",
      "Average occurrences of 'food': 45.00\n",
      "Average probability of 'food' appearing: 0.009423\n",
      "\n",
      "--- Averaged Data for the word 'salt' ---\n",
      "Average occurrences of 'salt': 4.67\n",
      "Average probability of 'salt' appearing: 0.000430\n"
     ]
    }
   ],
   "source": [
    "import requests\n",
    "from bs4 import BeautifulSoup\n",
    "\n",
    "# Function to calculate probabilities for a single word in the article\n",
    "def calculate_word_probability(url, word):\n",
    "    # Send a GET request to the Wikipedia article\n",
    "    response = requests.get(url)\n",
    "    \n",
    "    # Check if the request was successful\n",
    "    if response.status_code == 200:\n",
    "        # Parse the HTML content of the page\n",
    "        soup = BeautifulSoup(response.text, 'html.parser')\n",
    "        \n",
    "        # Get all text content from the article\n",
    "        article_text = soup.get_text().lower()\n",
    "        \n",
    "        # Total number of words in the article\n",
    "        total_words = len(article_text.split())\n",
    "        \n",
    "        # Count occurrences of the word in the article\n",
    "        word_count = article_text.count(word)\n",
    "        \n",
    "        # Probability of the word appearing\n",
    "        prob_word = word_count / total_words if total_words > 0 else 0\n",
    "\n",
    "        return word_count, prob_word, total_words\n",
    "    else:\n",
    "        print(f\"Error: Unable to fetch the article (Status code: {response.status_code})\")\n",
    "        return 0, 0, 0\n",
    "\n",
    "# List of URLs of food-related Wikipedia articles (replace this with actual URLs)\n",
    "urls = [\n",
    "    \"https://en.wikipedia.org/wiki/Sushi\",\n",
    "    \"https://en.wikipedia.org/wiki/Burger\",\n",
    "    \"https://en.wikipedia.org/wiki/Taco\",\n",
    "    # Add more URLs here...\n",
    "]\n",
    "\n",
    "# Variables to store the total counts and probabilities for averaging\n",
    "total_food_count = 0\n",
    "total_salt_count = 0\n",
    "total_food_prob = 0\n",
    "total_salt_prob = 0\n",
    "total_articles = len(urls)\n",
    "\n",
    "# Iterate through all articles and calculate data for \"food\" and \"salt\"\n",
    "for url in urls:\n",
    "    # Calculate for food\n",
    "    food_count, prob_food, _ = calculate_word_probability(url, \"food\")\n",
    "    # Calculate for salt\n",
    "    salt_count, prob_salt, _ = calculate_word_probability(url, \"salt\")\n",
    "    \n",
    "    # Accumulate the results for averaging\n",
    "    total_food_count += food_count\n",
    "    total_salt_count += salt_count\n",
    "    total_food_prob += prob_food\n",
    "    total_salt_prob += prob_salt\n",
    "\n",
    "# Calculate the averages\n",
    "avg_food_count = total_food_count / total_articles\n",
    "avg_salt_count = total_salt_count / total_articles\n",
    "avg_food_prob = total_food_prob / total_articles\n",
    "avg_salt_prob = total_salt_prob / total_articles\n",
    "\n",
    "# Print the averaged results\n",
    "print(f\"--- Averaged Data for the word 'food' ---\")\n",
    "print(f\"Average occurrences of 'food': {avg_food_count:.2f}\")\n",
    "print(f\"Average probability of 'food' appearing: {avg_food_prob:.6f}\")\n",
    "\n",
    "print(f\"\\n--- Averaged Data for the word 'salt' ---\")\n",
    "print(f\"Average occurrences of 'salt': {avg_salt_count:.2f}\")\n",
    "print(f\"Average probability of 'salt' appearing: {avg_salt_prob:.6f}\")\n"
   ]
  },
  {
   "cell_type": "code",
   "execution_count": 57,
   "id": "f058f56d",
   "metadata": {
    "scrolled": true
   },
   "outputs": [
    {
     "name": "stdout",
     "output_type": "stream",
     "text": [
      "--- Averaged Data for the word 'food' ---\n",
      "Average occurrences of 'food': 36.60\n",
      "Average probability of 'food' appearing: 0.007720\n",
      "\n",
      "--- Averaged Data for the word 'salt' ---\n",
      "Average occurrences of 'salt': 5.20\n",
      "Average probability of 'salt' appearing: 0.001005\n"
     ]
    }
   ],
   "source": [
    "import requests\n",
    "from bs4 import BeautifulSoup\n",
    "\n",
    "# Function to calculate probabilities for a single word in the article\n",
    "def calculate_word_probability(url, word):\n",
    "    # Send a GET request to the Wikipedia article\n",
    "    response = requests.get(url)\n",
    "    \n",
    "    # Check if the request was successful\n",
    "    if response.status_code == 200:\n",
    "        # Parse the HTML content of the page\n",
    "        soup = BeautifulSoup(response.text, 'html.parser')\n",
    "        \n",
    "        # Get all text content from the article\n",
    "        article_text = soup.get_text().lower()\n",
    "        \n",
    "        # Total number of words in the article\n",
    "        total_words = len(article_text.split())\n",
    "        \n",
    "        # Count occurrences of the word in the article\n",
    "        word_count = article_text.count(word)\n",
    "        \n",
    "        # Probability of the word appearing\n",
    "        prob_word = word_count / total_words if total_words > 0 else 0\n",
    "\n",
    "        return word_count, prob_word, total_words\n",
    "    else:\n",
    "        print(f\"Error: Unable to fetch the article (Status code: {response.status_code})\")\n",
    "        return 0, 0, 0\n",
    "\n",
    "# List of URLs of food-related Wikipedia articles (replace this with actual URLs)\n",
    "urls = [\n",
    "    \"https://en.wikipedia.org/wiki/Sushi\",\n",
    "    \"https://en.wikipedia.org/wiki/Burger\",\n",
    "    \"https://en.wikipedia.org/wiki/Taco\",\n",
    "    \"https://en.wikipedia.org/wiki/Pizza\",\n",
    "    \"https://en.wikipedia.org/wiki/Salad\",\n",
    "    # Add more URLs here, up to 1000\n",
    "]\n",
    "\n",
    "# Variables to store the total counts and probabilities for averaging\n",
    "total_food_count = 0\n",
    "total_salt_count = 0\n",
    "total_food_prob = 0\n",
    "total_salt_prob = 0\n",
    "total_articles = len(urls)\n",
    "\n",
    "# Iterate through all articles and calculate data for \"food\" and \"salt\"\n",
    "for url in urls:\n",
    "    # Calculate for food\n",
    "    food_count, prob_food, _ = calculate_word_probability(url, \"food\")\n",
    "    # Calculate for salt\n",
    "    salt_count, prob_salt, _ = calculate_word_probability(url, \"salt\")\n",
    "    \n",
    "    # Accumulate the results for averaging\n",
    "    total_food_count += food_count\n",
    "    total_salt_count += salt_count\n",
    "    total_food_prob += prob_food\n",
    "    total_salt_prob += prob_salt\n",
    "\n",
    "# Calculate the averages\n",
    "avg_food_count = total_food_count / total_articles\n",
    "avg_salt_count = total_salt_count / total_articles\n",
    "avg_food_prob = total_food_prob / total_articles\n",
    "avg_salt_prob = total_salt_prob / total_articles\n",
    "\n",
    "# Print the averaged results\n",
    "print(f\"--- Averaged Data for the word 'food' ---\")\n",
    "print(f\"Average occurrences of 'food': {avg_food_count:.2f}\")\n",
    "print(f\"Average probability of 'food' appearing: {avg_food_prob:.6f}\")\n",
    "\n",
    "print(f\"\\n--- Averaged Data for the word 'salt' ---\")\n",
    "print(f\"Average occurrences of 'salt': {avg_salt_count:.2f}\")\n",
    "print(f\"Average probability of 'salt' appearing: {avg_salt_prob:.6f}\")\n"
   ]
  },
  {
   "cell_type": "code",
   "execution_count": 54,
   "id": "6ae7061c",
   "metadata": {},
   "outputs": [
    {
     "data": {
      "image/png": "[encoded data removed]",
      "text/plain": [
       "<Figure size 600x400 with 1 Axes>"
      ]
     },
     "metadata": {},
     "output_type": "display_data"
    }
   ],
   "source": [
    "import requests\n",
    "import matplotlib.pyplot as plt\n",
    "from bs4 import BeautifulSoup\n",
    "\n",
    "# Function to calculate occurrences of a single word in the article\n",
    "def calculate_word_occurrence(url, word):\n",
    "    # Send a GET request to the Wikipedia article\n",
    "    response = requests.get(url)\n",
    "    \n",
    "    # Check if the request was successful\n",
    "    if response.status_code == 200:\n",
    "        # Parse the HTML content of the page\n",
    "        soup = BeautifulSoup(response.text, 'html.parser')\n",
    "        \n",
    "        # Get all text content from the article\n",
    "        article_text = soup.get_text().lower()\n",
    "        \n",
    "        # Count occurrences of the word in the article\n",
    "        word_count = article_text.count(word)\n",
    "        \n",
    "        return word_count\n",
    "    else:\n",
    "        print(f\"Error: Unable to fetch the article (Status code: {response.status_code})\")\n",
    "        return 0\n",
    "\n",
    "# URL of the Wikipedia article for \"Sushi\"\n",
    "url = \"https://en.wikipedia.org/wiki/Sushi\"\n",
    "\n",
    "# Words to check\n",
    "word_food = \"food\"\n",
    "word_salt = \"salt\"\n",
    "\n",
    "# Calculate occurrences for \"food\" and \"salt\"\n",
    "food_count = calculate_word_occurrence(url, word_food)\n",
    "salt_count = calculate_word_occurrence(url, word_salt)\n",
    "\n",
    "# Prepare data for plotting\n",
    "words = ['food', 'salt']\n",
    "counts = [food_count, salt_count]\n",
    "\n",
    "# Plotting the bar graph for occurrences\n",
    "plt.figure(figsize=(6, 4))\n",
    "\n",
    "# Create the bar graph for word occurrences\n",
    "plt.bar(words, counts, color='skyblue')\n",
    "\n",
    "# Set the title and labels\n",
    "plt.title('Occurrences of \"Food\" and \"Salt\"')\n",
    "plt.ylabel('Occurrences')\n",
    "plt.xlabel('Words')\n",
    "\n",
    "# Show the plot\n",
    "plt.show()\n"
   ]
  },
  {
   "cell_type": "code",
   "execution_count": 53,
   "id": "0ce44fdf",
   "metadata": {},
   "outputs": [
    {
     "data": {
      "image/png": "[encoded data removed]",
      "text/plain": [
       "<Figure size 600x400 with 1 Axes>"
      ]
     },
     "metadata": {},
     "output_type": "display_data"
    }
   ],
   "source": [
    "import requests\n",
    "import matplotlib.pyplot as plt\n",
    "from bs4 import BeautifulSoup\n",
    "\n",
    "# Function to calculate occurrences of a single word in the article\n",
    "def calculate_word_occurrence(url, word):\n",
    "    # Send a GET request to the Wikipedia article\n",
    "    response = requests.get(url)\n",
    "    \n",
    "    # Check if the request was successful\n",
    "    if response.status_code == 200:\n",
    "        # Parse the HTML content of the page\n",
    "        soup = BeautifulSoup(response.text, 'html.parser')\n",
    "        \n",
    "        # Get all text content from the article\n",
    "        article_text = soup.get_text().lower()\n",
    "        \n",
    "        # Count occurrences of the word in the article\n",
    "        word_count = article_text.count(word)\n",
    "        \n",
    "        return word_count\n",
    "    else:\n",
    "        print(f\"Error: Unable to fetch the article (Status code: {response.status_code})\")\n",
    "        return 0\n",
    "\n",
    "# URL of the Wikipedia article for \"Sushi\"\n",
    "url = \"https://en.wikipedia.org/wiki/Sushi\"\n",
    "\n",
    "# Words to check\n",
    "word_food = \"food\"\n",
    "word_salt = \"salt\"\n",
    "\n",
    "# Calculate occurrences for \"food\" and \"salt\"\n",
    "food_count = calculate_word_occurrence(url, word_food)\n",
    "salt_count = calculate_word_occurrence(url, word_salt)\n",
    "\n",
    "# Prepare data for plotting\n",
    "words = ['food', 'salt']\n",
    "counts = [food_count, salt_count]\n",
    "\n",
    "# Plotting the bar graph for occurrences\n",
    "plt.figure(figsize=(6, 4))\n",
    "\n",
    "# Create the bar graph for word occurrences\n",
    "plt.bar(words, counts, color='skyblue')\n",
    "\n",
    "# Set the title and labels\n",
    "plt.title('Occurrences of \"Food\" and \"Salt\"')\n",
    "plt.ylabel('Occurrences')\n",
    "plt.xlabel('Words')\n",
    "\n",
    "# Show the plot\n",
    "plt.show()\n"
   ]
  },
  {
   "cell_type": "markdown",
   "id": "b5a374a3",
   "metadata": {},
   "source": [
    "# My Answer"
   ]
  },
  {
   "cell_type": "markdown",
   "id": "9324acad",
   "metadata": {},
   "source": [
    "The probibility of the word food and/or salt in a wikipeidia is more likley to have the word food than salt. Looking at the graph, it shows us the more likley that there will be the world food rather than salt. The total amouint of food mentions is 88 \"Occurrences of 'food': 88\", and the total amount of is 14 \"Occurrences of 'salt': 13\", so compared food has a more likeluy. The probability of 'food' appearing: 0.007375 and the probability of 'salt' appearing: 0.001090, this is very close to 0 but theres a much more likly chance of finding food rather than salt, so th4e changes of something happening and not happening are close to 0 with more chance of gett food. Where the averages are Average occurrences of 'food': 36.60\n",
    "Average probability of 'food' appearing: 0.007720--- Averaged Data for the word 'salt' ---Average occurrences of 'salt': 5.20Average probability of 'salt' appearing: 0.001005, the averages are about 1000 different wikipedia sites!"
   ]
  },
  {
   "cell_type": "markdown",
   "id": "2cadbfec",
   "metadata": {},
   "source": [
    "### Write your answer here."
   ]
  }
 ],
 "metadata": {
  "kernelspec": {
   "display_name": "Python 3 (ipykernel)",
   "language": "python",
   "name": "python3"
  },
  "language_info": {
   "codemirror_mode": {
    "name": "ipython",
    "version": 3
   },
   "file_extension": ".py",
   "mimetype": "text/x-python",
   "name": "python",
   "nbconvert_exporter": "python",
   "pygments_lexer": "ipython3",
   "version": "3.9.13"
  }
 },
 "nbformat": 4,
 "nbformat_minor": 5
}
