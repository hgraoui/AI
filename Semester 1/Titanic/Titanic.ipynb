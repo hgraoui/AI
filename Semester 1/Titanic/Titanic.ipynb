{
 "cells": [
  {
   "cell_type": "code",
   "execution_count": 104,
   "id": "7cf7ab6e",
   "metadata": {},
   "outputs": [],
   "source": [
    "import pandas as pd"
   ]
  },
  {
   "cell_type": "code",
   "execution_count": 105,
   "id": "9a907695",
   "metadata": {},
   "outputs": [],
   "source": [
    "data = pd.read_csv('titanic.csv')\n",
    "data.columns\n",
    "df = data"
   ]
  },
  {
   "cell_type": "code",
   "execution_count": 106,
   "id": "c9490e73",
   "metadata": {
    "scrolled": true
   },
   "outputs": [
    {
     "name": "stdout",
     "output_type": "stream",
     "text": [
      "<class 'pandas.core.frame.DataFrame'>\n",
      "RangeIndex: 891 entries, 0 to 890\n",
      "Data columns (total 12 columns):\n",
      " #   Column       Non-Null Count  Dtype  \n",
      "---  ------       --------------  -----  \n",
      " 0   PassengerId  891 non-null    int64  \n",
      " 1   Survived     891 non-null    int64  \n",
      " 2   Pclass       891 non-null    int64  \n",
      " 3   Name         891 non-null    object \n",
      " 4   Sex          891 non-null    object \n",
      " 5   Age          714 non-null    float64\n",
      " 6   SibSp        891 non-null    int64  \n",
      " 7   Parch        891 non-null    int64  \n",
      " 8   Ticket       891 non-null    object \n",
      " 9   Fare         891 non-null    float64\n",
      " 10  Cabin        204 non-null    object \n",
      " 11  Embarked     889 non-null    object \n",
      "dtypes: float64(2), int64(5), object(5)\n",
      "memory usage: 83.7+ KB\n"
     ]
    }
   ],
   "source": [
    "data.info()"
   ]
  },
  {
   "cell_type": "code",
   "execution_count": 107,
   "id": "e9b1f8b6",
   "metadata": {
    "scrolled": false
   },
   "outputs": [],
   "source": [
    "data.at[5, \"Age\"] = 28"
   ]
  },
  {
   "cell_type": "code",
   "execution_count": 108,
   "id": "fc11a8b7",
   "metadata": {},
   "outputs": [
    {
     "data": {
      "text/plain": [
       "576"
      ]
     },
     "execution_count": 108,
     "metadata": {},
     "output_type": "execute_result"
    }
   ],
   "source": [
    "count = 0 \n",
    "for person in data['Age']:\n",
    "    if person > 18:\n",
    "        count = count + 1 \n",
    "count"
   ]
  },
  {
   "cell_type": "code",
   "execution_count": 109,
   "id": "7cb7d8ef",
   "metadata": {},
   "outputs": [
    {
     "data": {
      "text/plain": [
       "64.75869809203144"
      ]
     },
     "execution_count": 109,
     "metadata": {},
     "output_type": "execute_result"
    }
   ],
   "source": [
    "count = 0 \n",
    "for person in data[\"Sex\"]:\n",
    "    if person == \"male\":\n",
    "        count = count + 1 \n",
    "count = (count / len(data)) * 100\n",
    "count "
   ]
  },
  {
   "cell_type": "code",
   "execution_count": 110,
   "id": "f3bed32e",
   "metadata": {},
   "outputs": [
    {
     "data": {
      "text/plain": [
       "{'CLASS': ['First', 'Second', 'Third'], 'Frequency': [216, 184, 491]}"
      ]
     },
     "execution_count": 110,
     "metadata": {},
     "output_type": "execute_result"
    }
   ],
   "source": [
    "classes = {\"CLASS\" :[], \"Frequency\":[]}\n",
    "countFirst= 0\n",
    "countSecond = 0 \n",
    "countThird = 0 \n",
    "for ticket in df [\"Pclass\"]:\n",
    "    if ticket == 1:\n",
    "        countFirst = countFirst + 1\n",
    "    elif ticket == 2:\n",
    "        countSecond = countSecond + 1\n",
    "    elif ticket == 3:\n",
    "        countThird = countThird + 1\n",
    "classes [\"CLASS\"].append(\"First\")\n",
    "classes [\"CLASS\"].append(\"Second\")\n",
    "classes [\"CLASS\"].append(\"Third\")\n",
    "classes[\"Frequency\"].append(countFirst)\n",
    "classes[\"Frequency\"].append(countSecond)\n",
    "classes[\"Frequency\"].append(countThird)\n",
    "classes\n",
    "    \n",
    "             "
   ]
  },
  {
   "cell_type": "code",
   "execution_count": 88,
   "id": "38eb0bef",
   "metadata": {},
   "outputs": [
    {
     "data": {
      "text/html": [
       "<div>\n",
       "<style scoped>\n",
       "    .dataframe tbody tr th:only-of-type {\n",
       "        vertical-align: middle;\n",
       "    }\n",
       "\n",
       "    .dataframe tbody tr th {\n",
       "        vertical-align: top;\n",
       "    }\n",
       "\n",
       "    .dataframe thead th {\n",
       "        text-align: right;\n",
       "    }\n",
       "</style>\n",
       "<table border=\"1\" class=\"dataframe\">\n",
       "  <thead>\n",
       "    <tr style=\"text-align: right;\">\n",
       "      <th></th>\n",
       "      <th>CLASS</th>\n",
       "      <th>Frequency</th>\n",
       "    </tr>\n",
       "  </thead>\n",
       "  <tbody>\n",
       "    <tr>\n",
       "      <th>0</th>\n",
       "      <td>First</td>\n",
       "      <td>216</td>\n",
       "    </tr>\n",
       "    <tr>\n",
       "      <th>1</th>\n",
       "      <td>Second</td>\n",
       "      <td>184</td>\n",
       "    </tr>\n",
       "    <tr>\n",
       "      <th>2</th>\n",
       "      <td>Third</td>\n",
       "      <td>491</td>\n",
       "    </tr>\n",
       "  </tbody>\n",
       "</table>\n",
       "</div>"
      ],
      "text/plain": [
       "    CLASS  Frequency\n",
       "0   First        216\n",
       "1  Second        184\n",
       "2   Third        491"
      ]
     },
     "execution_count": 88,
     "metadata": {},
     "output_type": "execute_result"
    }
   ],
   "source": [
    "freqTable = pd.DataFrame(classes)\n",
    "freqTable"
   ]
  },
  {
   "cell_type": "code",
   "execution_count": 89,
   "id": "1a4f9fac",
   "metadata": {},
   "outputs": [
    {
     "data": {
      "text/html": [
       "<div>\n",
       "<style scoped>\n",
       "    .dataframe tbody tr th:only-of-type {\n",
       "        vertical-align: middle;\n",
       "    }\n",
       "\n",
       "    .dataframe tbody tr th {\n",
       "        vertical-align: top;\n",
       "    }\n",
       "\n",
       "    .dataframe thead th {\n",
       "        text-align: right;\n",
       "    }\n",
       "</style>\n",
       "<table border=\"1\" class=\"dataframe\">\n",
       "  <thead>\n",
       "    <tr style=\"text-align: right;\">\n",
       "      <th></th>\n",
       "      <th>CLASS</th>\n",
       "      <th>Frequency</th>\n",
       "      <th>Percent</th>\n",
       "    </tr>\n",
       "  </thead>\n",
       "  <tbody>\n",
       "    <tr>\n",
       "      <th>0</th>\n",
       "      <td>First</td>\n",
       "      <td>216</td>\n",
       "      <td>24.242424</td>\n",
       "    </tr>\n",
       "    <tr>\n",
       "      <th>1</th>\n",
       "      <td>Second</td>\n",
       "      <td>184</td>\n",
       "      <td>20.650954</td>\n",
       "    </tr>\n",
       "    <tr>\n",
       "      <th>2</th>\n",
       "      <td>Third</td>\n",
       "      <td>491</td>\n",
       "      <td>55.106622</td>\n",
       "    </tr>\n",
       "  </tbody>\n",
       "</table>\n",
       "</div>"
      ],
      "text/plain": [
       "    CLASS  Frequency    Percent\n",
       "0   First        216  24.242424\n",
       "1  Second        184  20.650954\n",
       "2   Third        491  55.106622"
      ]
     },
     "execution_count": 89,
     "metadata": {},
     "output_type": "execute_result"
    }
   ],
   "source": [
    "freqTable[\"Percent\"] = (freqTable[\"Frequency\"] / len(df))*100\n",
    "freqTable"
   ]
  },
  {
   "cell_type": "code",
   "execution_count": 111,
   "id": "72ad757e",
   "metadata": {},
   "outputs": [
    {
     "data": {
      "text/html": [
       "<div>\n",
       "<style scoped>\n",
       "    .dataframe tbody tr th:only-of-type {\n",
       "        vertical-align: middle;\n",
       "    }\n",
       "\n",
       "    .dataframe tbody tr th {\n",
       "        vertical-align: top;\n",
       "    }\n",
       "\n",
       "    .dataframe thead th {\n",
       "        text-align: right;\n",
       "    }\n",
       "</style>\n",
       "<table border=\"1\" class=\"dataframe\">\n",
       "  <thead>\n",
       "    <tr style=\"text-align: right;\">\n",
       "      <th></th>\n",
       "      <th>CLASS</th>\n",
       "      <th>Frequency</th>\n",
       "      <th>Percent</th>\n",
       "    </tr>\n",
       "  </thead>\n",
       "  <tbody>\n",
       "    <tr>\n",
       "      <th>0</th>\n",
       "      <td>First</td>\n",
       "      <td>216</td>\n",
       "      <td>24.242424</td>\n",
       "    </tr>\n",
       "    <tr>\n",
       "      <th>1</th>\n",
       "      <td>Second</td>\n",
       "      <td>184</td>\n",
       "      <td>20.650954</td>\n",
       "    </tr>\n",
       "    <tr>\n",
       "      <th>2</th>\n",
       "      <td>Third</td>\n",
       "      <td>491</td>\n",
       "      <td>55.106622</td>\n",
       "    </tr>\n",
       "  </tbody>\n",
       "</table>\n",
       "</div>"
      ],
      "text/plain": [
       "    CLASS  Frequency    Percent\n",
       "0   First        216  24.242424\n",
       "1  Second        184  20.650954\n",
       "2   Third        491  55.106622"
      ]
     },
     "execution_count": 111,
     "metadata": {},
     "output_type": "execute_result"
    }
   ],
   "source": [
    "freqTable.head()"
   ]
  },
  {
   "cell_type": "code",
   "execution_count": 112,
   "id": "929e53aa",
   "metadata": {},
   "outputs": [
    {
     "data": {
      "text/html": [
       "<div>\n",
       "<style scoped>\n",
       "    .dataframe tbody tr th:only-of-type {\n",
       "        vertical-align: middle;\n",
       "    }\n",
       "\n",
       "    .dataframe tbody tr th {\n",
       "        vertical-align: top;\n",
       "    }\n",
       "\n",
       "    .dataframe thead th {\n",
       "        text-align: right;\n",
       "    }\n",
       "</style>\n",
       "<table border=\"1\" class=\"dataframe\">\n",
       "  <thead>\n",
       "    <tr style=\"text-align: right;\">\n",
       "      <th></th>\n",
       "      <th>PassengerId</th>\n",
       "      <th>Survived</th>\n",
       "      <th>Pclass</th>\n",
       "      <th>Name</th>\n",
       "      <th>Sex</th>\n",
       "      <th>Age</th>\n",
       "      <th>SibSp</th>\n",
       "      <th>Parch</th>\n",
       "      <th>Ticket</th>\n",
       "      <th>Fare</th>\n",
       "      <th>Cabin</th>\n",
       "      <th>Embarked</th>\n",
       "    </tr>\n",
       "  </thead>\n",
       "  <tbody>\n",
       "    <tr>\n",
       "      <th>527</th>\n",
       "      <td>528</td>\n",
       "      <td>0</td>\n",
       "      <td>1</td>\n",
       "      <td>Farthing, Mr. John</td>\n",
       "      <td>male</td>\n",
       "      <td>NaN</td>\n",
       "      <td>0</td>\n",
       "      <td>0</td>\n",
       "      <td>PC 17483</td>\n",
       "      <td>221.7792</td>\n",
       "      <td>C95</td>\n",
       "      <td>S</td>\n",
       "    </tr>\n",
       "  </tbody>\n",
       "</table>\n",
       "</div>"
      ],
      "text/plain": [
       "     PassengerId  Survived  Pclass                Name   Sex  Age  SibSp  \\\n",
       "527          528         0       1  Farthing, Mr. John  male  NaN      0   \n",
       "\n",
       "     Parch    Ticket      Fare Cabin Embarked  \n",
       "527      0  PC 17483  221.7792   C95        S  "
      ]
     },
     "execution_count": 112,
     "metadata": {},
     "output_type": "execute_result"
    }
   ],
   "source": [
    "df[df[\"PassengerId\"] == 528]"
   ]
  },
  {
   "cell_type": "code",
   "execution_count": 113,
   "id": "442aa257",
   "metadata": {},
   "outputs": [
    {
     "data": {
      "text/plain": [
       "PassengerId                              707\n",
       "Survived                                   1\n",
       "Pclass                                     2\n",
       "Name           Kelly, Mrs. Florence \"Fannie\"\n",
       "Sex                                   female\n",
       "Age                                     45.0\n",
       "SibSp                                      0\n",
       "Parch                                      0\n",
       "Ticket                                223596\n",
       "Fare                                    13.5\n",
       "Cabin                                    NaN\n",
       "Embarked                                   S\n",
       "Name: 706, dtype: object"
      ]
     },
     "execution_count": 113,
     "metadata": {},
     "output_type": "execute_result"
    }
   ],
   "source": [
    "idx = 0\n",
    "for person in df[\"Name\"]:\n",
    "    if \"Fannie\" in person:\n",
    "      break\n",
    "    idx += 1 \n",
    "df.loc[idx]"
   ]
  },
  {
   "cell_type": "code",
   "execution_count": 115,
   "id": "47be3456",
   "metadata": {},
   "outputs": [
    {
     "data": {
      "text/html": [
       "<div>\n",
       "<style scoped>\n",
       "    .dataframe tbody tr th:only-of-type {\n",
       "        vertical-align: middle;\n",
       "    }\n",
       "\n",
       "    .dataframe tbody tr th {\n",
       "        vertical-align: top;\n",
       "    }\n",
       "\n",
       "    .dataframe thead th {\n",
       "        text-align: right;\n",
       "    }\n",
       "</style>\n",
       "<table border=\"1\" class=\"dataframe\">\n",
       "  <thead>\n",
       "    <tr style=\"text-align: right;\">\n",
       "      <th></th>\n",
       "      <th>Male</th>\n",
       "      <th>Female</th>\n",
       "    </tr>\n",
       "  </thead>\n",
       "  <tbody>\n",
       "    <tr>\n",
       "      <th>Survived</th>\n",
       "      <td>109</td>\n",
       "      <td>233</td>\n",
       "    </tr>\n",
       "    <tr>\n",
       "      <th>Died</th>\n",
       "      <td>468</td>\n",
       "      <td>81</td>\n",
       "    </tr>\n",
       "  </tbody>\n",
       "</table>\n",
       "</div>"
      ],
      "text/plain": [
       "          Male  Female\n",
       "Survived   109     233\n",
       "Died       468      81"
      ]
     },
     "execution_count": 115,
     "metadata": {},
     "output_type": "execute_result"
    }
   ],
   "source": [
    "maleSurvived = 0 \n",
    "femaleSurvived = 0 \n",
    "maleDied = 0 \n",
    "femaleDied = 0 \n",
    "for idx in range(len(df)):\n",
    "    if df.loc[idx][\"Sex\"] == 'male' and df.loc[idx]['Survived'] == 0:\n",
    "                  maleDied += 1\n",
    "    elif df.loc[idx][\"Sex\"] == \"male\" and df.loc[idx]['Survived'] == 1:\n",
    "                  maleSurvived += 1 \n",
    "    elif df.loc[idx][\"Sex\"] == \"female\" and df.loc[idx]['Survived'] == 0:\n",
    "                  femaleDied += 1\n",
    "    elif df.loc[idx][\"Sex\"] == \"female\" and df.loc[idx]['Survived'] == 1:\n",
    "                  femaleSurvived += 1\n",
    "conTable = pd.DataFrame({\n",
    "    \"Male\" : [maleSurvived, maleDied],\n",
    "    \"Female\" : [femaleSurvived, femaleDied],\n",
    "})\n",
    "conTable.index = [\"Survived\", \"Died\"]\n",
    "conTable.head()"
   ]
  },
  {
   "cell_type": "code",
   "execution_count": 138,
   "id": "69aec6cc",
   "metadata": {},
   "outputs": [
    {
     "data": {
      "text/html": [
       "<div>\n",
       "<style scoped>\n",
       "    .dataframe tbody tr th:only-of-type {\n",
       "        vertical-align: middle;\n",
       "    }\n",
       "\n",
       "    .dataframe tbody tr th {\n",
       "        vertical-align: top;\n",
       "    }\n",
       "\n",
       "    .dataframe thead th {\n",
       "        text-align: right;\n",
       "    }\n",
       "</style>\n",
       "<table border=\"1\" class=\"dataframe\">\n",
       "  <thead>\n",
       "    <tr style=\"text-align: right;\">\n",
       "      <th></th>\n",
       "      <th>Child</th>\n",
       "      <th>Adult</th>\n",
       "      <th>Elderly</th>\n",
       "      <th>Total</th>\n",
       "    </tr>\n",
       "  </thead>\n",
       "  <tbody>\n",
       "    <tr>\n",
       "      <th>Survived</th>\n",
       "      <td>53.982301</td>\n",
       "      <td>38.541667</td>\n",
       "      <td>26.923077</td>\n",
       "      <td>40.559441</td>\n",
       "    </tr>\n",
       "    <tr>\n",
       "      <th>Died</th>\n",
       "      <td>46.017699</td>\n",
       "      <td>61.458333</td>\n",
       "      <td>73.076923</td>\n",
       "      <td>59.440559</td>\n",
       "    </tr>\n",
       "  </tbody>\n",
       "</table>\n",
       "</div>"
      ],
      "text/plain": [
       "              Child      Adult    Elderly      Total\n",
       "Survived  53.982301  38.541667  26.923077  40.559441\n",
       "Died      46.017699  61.458333  73.076923  59.440559"
      ]
     },
     "execution_count": 138,
     "metadata": {},
     "output_type": "execute_result"
    }
   ],
   "source": [
    "childSurvive = 0\n",
    "childDied = 0\n",
    "adultSurvive = 0\n",
    "adultDied = 0\n",
    "elderSurvive = 0\n",
    "elderDied = 0\n",
    "childTotal = 0\n",
    "adultTotal = 0\n",
    "elderTotal = 0\n",
    "allPeople = 0\n",
    "allPeopleSurvive = 0\n",
    "allPeopleDied = 0\n",
    "for idx in range(len(df)):\n",
    "    if df.loc[idx][\"Age\"] < 18 and df.loc[idx][\"Survived\"] == 1:\n",
    "        childSurvive += 1\n",
    "        childTotal += 1\n",
    "        allPeople += 1\n",
    "        allPeopleSurvive += 1\n",
    "    elif df.loc[idx]['Age'] < 18 and df.loc[idx][\"Survived\"] == 0:\n",
    "        childDied += 1\n",
    "        childTotal += 1\n",
    "        allPeople += 1\n",
    "        allPeopleDied += 1\n",
    "    elif df.loc[idx][\"Age\"] >= 18 and df.loc[idx][\"Age\"] < 60 and df.loc[idx][\"Survived\"] == 1:\n",
    "        adultSurvive += 1\n",
    "        adultTotal += 1\n",
    "        allPeople += 1\n",
    "        allPeopleSurvive += 1\n",
    "    elif df.loc[idx][\"Age\"] >= 18 and df.loc[idx][\"Age\"] < 60 and df.loc[idx][\"Survived\"] == 0:\n",
    "        adultDied += 1\n",
    "        adultTotal += 1\n",
    "        allPeople += 1\n",
    "        allPeopleDied += 1\n",
    "    elif df.loc[idx]['Age'] >= 60 and df.loc[idx][\"Survived\"] == 1:\n",
    "        elderSurvive += 1\n",
    "        elderTotal += 1\n",
    "        allPeople += 1\n",
    "        allPeopleSurvive += 1\n",
    "    elif df.loc[idx]['Age'] >= 60 and df.loc[idx][\"Survived\"] == 0:\n",
    "        elderDied += 1\n",
    "        elderTotal += 1\n",
    "        allPeople += 1\n",
    "        allPeopleDied += 1\n",
    "\n",
    "conTable = {\n",
    "    \"Child\": [childSurvive/childTotal *100, childDied/childTotal *100],\n",
    "    \"Adult\": [adultSurvive/adultTotal *100, adultDied/adultTotal *100],\n",
    "    \"Elderly\": [elderSurvive/elderTotal *100, elderDied/elderTotal *100],\n",
    "    \"Total\": [allPeopleSurvive/allPeople *100, allPeopleDied/allPeople*100]\n",
    "}\n",
    "df2 = pd.DataFrame(conTable)\n",
    "df2.index = [\"Survived\", \"Died\"]\n",
    "df2.head()"
   ]
  },
  {
   "cell_type": "code",
   "execution_count": 153,
   "id": "3928dea2",
   "metadata": {},
   "outputs": [
    {
     "data": {
      "text/html": [
       "<div>\n",
       "<style scoped>\n",
       "    .dataframe tbody tr th:only-of-type {\n",
       "        vertical-align: middle;\n",
       "    }\n",
       "\n",
       "    .dataframe tbody tr th {\n",
       "        vertical-align: top;\n",
       "    }\n",
       "\n",
       "    .dataframe thead th {\n",
       "        text-align: right;\n",
       "    }\n",
       "</style>\n",
       "<table border=\"1\" class=\"dataframe\">\n",
       "  <thead>\n",
       "    <tr style=\"text-align: right;\">\n",
       "      <th></th>\n",
       "      <th>S</th>\n",
       "      <th>Q</th>\n",
       "      <th>C</th>\n",
       "      <th>U</th>\n",
       "      <th>Total</th>\n",
       "    </tr>\n",
       "  </thead>\n",
       "  <tbody>\n",
       "    <tr>\n",
       "      <th>Survived</th>\n",
       "      <td>33.695652</td>\n",
       "      <td>30</td>\n",
       "      <td>93</td>\n",
       "      <td>2</td>\n",
       "      <td>342</td>\n",
       "    </tr>\n",
       "    <tr>\n",
       "      <th>Died</th>\n",
       "      <td>427.000000</td>\n",
       "      <td>47</td>\n",
       "      <td>75</td>\n",
       "      <td>0</td>\n",
       "      <td>549</td>\n",
       "    </tr>\n",
       "    <tr>\n",
       "      <th>Total</th>\n",
       "      <td>644.000000</td>\n",
       "      <td>77</td>\n",
       "      <td>168</td>\n",
       "      <td>2</td>\n",
       "      <td>891</td>\n",
       "    </tr>\n",
       "  </tbody>\n",
       "</table>\n",
       "</div>"
      ],
      "text/plain": [
       "                   S   Q    C  U  Total\n",
       "Survived   33.695652  30   93  2    342\n",
       "Died      427.000000  47   75  0    549\n",
       "Total     644.000000  77  168  2    891"
      ]
     },
     "execution_count": 153,
     "metadata": {},
     "output_type": "execute_result"
    }
   ],
   "source": [
    "survived = {\"S\": 0, \"C\": 0, \"Q\": 0, \"U\": 0}\n",
    "died = {\"S\": 0, \"C\": 0, \"Q\": 0, \"U\": 0}\n",
    "for idx in range(len(df)):\n",
    "    city = df.loc[idx][\"Embarked\"]\n",
    "    if df.loc[idx][\"Survived\"] == 1:\n",
    "        if city in [\"S\", \"C\", \"Q\"]:\n",
    "            survived[city] += 1\n",
    "        else:\n",
    "            survived[\"U\"] += 1\n",
    "    else:\n",
    "        if city in [\"S\", \"C\", \"Q\"]:\n",
    "            died[city] += 1\n",
    "        else:\n",
    "            died[\"U\"] += 1\n",
    "conTable = {\n",
    "    \"S\": [survived[\"S\"]/(survived[\"S\"] + died[\"S\"]) * 100, died[\"S\"], survived[\"S\"] + died[\"S\"]],\n",
    "    \"Q\": [survived[\"Q\"], died[\"Q\"], survived[\"Q\"] + died[\"Q\"]],\n",
    "    \"C\": [survived[\"C\"], died[\"C\"], survived[\"C\"] + died[\"C\"]],\n",
    "    \"U\": [survived[\"U\"], died[\"U\"], survived[\"U\"] + died[\"U\"]],\n",
    "    \"Total\": [survived[\"S\"] + survived[\"Q\"] + survived[\"C\"] + survived[\"U\"],died[\"S\"] + died[\"Q\"] + died[\"C\"] + died[\"U\"],len(df)]\n",
    "}\n",
    "conTable = pd.DataFrame(conTable)\n",
    "conTable.index = [\"Survived\", \"Died\", \"Total\"]\n",
    "conTable.head()\n",
    "                                                       "
   ]
  },
  {
   "cell_type": "code",
   "execution_count": null,
   "id": "7ad57691",
   "metadata": {},
   "outputs": [],
   "source": []
  },
  {
   "cell_type": "code",
   "execution_count": null,
   "id": "8ea97d06",
   "metadata": {},
   "outputs": [],
   "source": []
  }
 ],
 "metadata": {
  "kernelspec": {
   "display_name": "Python 3 (ipykernel)",
   "language": "python",
   "name": "python3"
  },
  "language_info": {
   "codemirror_mode": {
    "name": "ipython",
    "version": 3
   },
   "file_extension": ".py",
   "mimetype": "text/x-python",
   "name": "python",
   "nbconvert_exporter": "python",
   "pygments_lexer": "ipython3",
   "version": "3.9.13"
  }
 },
 "nbformat": 4,
 "nbformat_minor": 5
}
